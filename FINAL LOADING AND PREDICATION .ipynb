{
 "cells": [
  {
   "cell_type": "markdown",
   "id": "c9500308",
   "metadata": {},
   "source": [
    "### Encoded values for attribute 'menopause':\n",
    "#### ge40: 0\n",
    "#### lt40: 1\n",
    "#### premeno: 2\n",
    "\n",
    "### Encoded values for attribute 'node-caps':\n",
    "#### nan: 0\n",
    "#### no: 1\n",
    "#### yes: 2\n",
    "\n",
    "### Encoded values for attribute 'breast':\n",
    "#### left: 0\n",
    "#### right: 1\n",
    "\n",
    "### Encoded values for attribute 'breast-quad':\n",
    "#### central: 0\n",
    "#### left_low: 1\n",
    "#### left_up: 2\n",
    "#### nan: 3\n",
    "#### right_low: 4\n",
    "#### right_up: 5\n",
    "\n",
    "### Encoded values for attribute 'irradiat':\n",
    "#### no: 0\n",
    "#### yes: 1\n",
    "\n",
    "### Encoded values for attribute 'Class':\n",
    "#### no-recurrence-events: 0\n",
    "#### recurrence-events: 1"
   ]
  },
  {
   "cell_type": "code",
   "execution_count": 10,
   "id": "7cb6ac3c",
   "metadata": {},
   "outputs": [
    {
     "name": "stdout",
     "output_type": "stream",
     "text": [
      "[40, 49, 2, 30, 34, 0, 2, 1, 1, 1, 2, 0]\n",
      "[0]\n"
     ]
    }
   ],
   "source": [
    "import pandas as pd\n",
    "from sklearn.preprocessing import LabelEncoder\n",
    "from sklearn.model_selection import train_test_split\n",
    "from tensorflow.keras.utils import to_categorical\n",
    "from sklearn.preprocessing import StandardScaler\n",
    "from sklearn.linear_model import LogisticRegression\n",
    "from sklearn.metrics import accuracy_score\n",
    "import numpy as np\n",
    "import joblib\n",
    "import pandas as pd \n",
    "import matplotlib.pyplot as plt\n",
    "# Load the model\n",
    "loaded_model = joblib.load('RandomForest_Logisticregression.pkl')\n",
    "data= '40 49  2 30 34  0  2  1  1  1  2  0'.split()\n",
    "data1=[]\n",
    "for i in data:\n",
    "    i=int(i)\n",
    "    data1.append(i)\n",
    "print(data1)\n",
    "# Make predictions\n",
    "predictions = loaded_model.predict(np.array(data1).reshape(1,-1))\n",
    "print(predictions)\n"
   ]
  },
  {
   "cell_type": "code",
   "execution_count": null,
   "id": "14f321b1",
   "metadata": {},
   "outputs": [],
   "source": []
  }
 ],
 "metadata": {
  "kernelspec": {
   "display_name": "Python 3 (ipykernel)",
   "language": "python",
   "name": "python3"
  },
  "language_info": {
   "codemirror_mode": {
    "name": "ipython",
    "version": 3
   },
   "file_extension": ".py",
   "mimetype": "text/x-python",
   "name": "python",
   "nbconvert_exporter": "python",
   "pygments_lexer": "ipython3",
   "version": "3.10.9"
  }
 },
 "nbformat": 4,
 "nbformat_minor": 5
}
